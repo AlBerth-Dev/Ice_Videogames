{
 "cells": [
  {
   "cell_type": "markdown",
   "metadata": {},
   "source": [
    "# Exploratory and Statistical Data Analysis for Iced company"
   ]
  },
  {
   "cell_type": "markdown",
   "metadata": {},
   "source": [
    "The objective of this project is to identify patterns that determine whether a game is successful or not for sale. This will allow us to detect promising projects and plan advertising campaigns for the following year (2017).\n",
    "\n",
    "To achieve the objective, the data received will be prepared, then analyzed in order to create a user profile for each of the relevant regions (North America, the European Union and Japan). Additionally, we will seek to answer the following hypotheses:\n",
    "1. Average user ratings for Xbox One and PC platforms are the same.\n",
    "2. Average user ratings for Action and Sports genres are different."
   ]
  },
  {
   "cell_type": "markdown",
   "metadata": {},
   "source": [
    "## 1. Data Preparation"
   ]
  },
  {
   "cell_type": "code",
   "execution_count": 27,
   "metadata": {},
   "outputs": [],
   "source": [
    "import pandas as pd\n",
    "import matplotlib.pyplot as plt\n",
    "import numpy as np\n",
    "import re\n",
    "import math\n",
    "import seaborn as sns\n",
    "from scipy import stats as st"
   ]
  },
  {
   "cell_type": "markdown",
   "metadata": {},
   "source": [
    "### 1.1 Reading data and searching for duplicates."
   ]
  },
  {
   "cell_type": "code",
   "execution_count": 3,
   "metadata": {},
   "outputs": [
    {
     "name": "stdout",
     "output_type": "stream",
     "text": [
      "<class 'pandas.core.frame.DataFrame'>\n",
      "RangeIndex: 16715 entries, 0 to 16714\n",
      "Data columns (total 11 columns):\n",
      " #   Column           Non-Null Count  Dtype  \n",
      "---  ------           --------------  -----  \n",
      " 0   name             16713 non-null  object \n",
      " 1   platform         16715 non-null  object \n",
      " 2   year_of_release  16446 non-null  float64\n",
      " 3   genre            16713 non-null  object \n",
      " 4   na_sales         16715 non-null  float64\n",
      " 5   eu_sales         16715 non-null  float64\n",
      " 6   jp_sales         16715 non-null  float64\n",
      " 7   other_sales      16715 non-null  float64\n",
      " 8   critic_score     8137 non-null   float64\n",
      " 9   user_score       10014 non-null  object \n",
      " 10  rating           9949 non-null   object \n",
      "dtypes: float64(6), object(5)\n",
      "memory usage: 1.4+ MB\n",
      "None\n",
      "Duplicados:  0\n"
     ]
    }
   ],
   "source": [
    "data = pd.read_csv('../databases/games.csv')\n",
    "data.columns = data.columns.str.lower()\n",
    "print(data.info())\n",
    "\n",
    "# Búsqueda de duplicados:\n",
    "print('Duplicados: ',data.duplicated().sum())"
   ]
  },
  {
   "cell_type": "markdown",
   "metadata": {},
   "source": [
    "### 1.2 Datatype conversion:"
   ]
  },
  {
   "cell_type": "code",
   "execution_count": 4,
   "metadata": {},
   "outputs": [
    {
     "name": "stdout",
     "output_type": "stream",
     "text": [
      "[8.  nan 8.3 8.5 6.6 8.4 8.6 7.7 6.3 7.4 8.2 9.  7.9 8.1 8.7 7.1 3.4 5.3\n",
      " 4.8 3.2 8.9 6.4 7.8 7.5 2.6 7.2 9.2 7.  7.3 4.3 7.6 5.7 5.  9.1 6.5 8.8\n",
      " 6.9 9.4 6.8 6.1 6.7 5.4 4.  4.9 4.5 9.3 6.2 4.2 6.  3.7 4.1 5.8 5.6 5.5\n",
      " 4.4 4.6 5.9 3.9 3.1 2.9 5.2 3.3 4.7 5.1 3.5 2.5 1.9 3.  2.7 2.2 2.  9.5\n",
      " 2.1 3.6 2.8 1.8 3.8 0.  1.6 9.6 2.4 1.7 1.1 0.3 1.5 0.7 1.2 2.3 0.5 1.3\n",
      " 0.2 0.6 1.4 0.9 1.  9.7]\n"
     ]
    }
   ],
   "source": [
    "## CAMBIAMOS EL TIPO DE DATO DE LA COLUMNA user_score ------------------\n",
    "#data['user_score'] = pd.to_numeric(data['user_score']) \n",
    "# En la coluna user_score tenemos datos no nulos, nulos y 'tbd'. Los nulos pueden provenir quizás de una mala captura de datos, o bien, aún no se han generado opiniones de los usuarios. Los 'tbd' sugieren tal vez actualizaciones en el score y este numero se este actualizando en la base de datos.\n",
    "\n",
    "# Como los valores tbd no aportan información y no hay forma de averiguar estos valores, se forzará el cambio de 'tbd' a valores numéricos y se transformarán a NaN:\n",
    "data['user_score'] = pd.to_numeric(data['user_score'], errors='coerce')\n",
    "print(data['user_score'].unique()) # There are no more 'tbd' values"
   ]
  },
  {
   "cell_type": "markdown",
   "metadata": {},
   "source": [
    "### 1.3 Management of Null-values:"
   ]
  },
  {
   "cell_type": "code",
   "execution_count": 5,
   "metadata": {},
   "outputs": [
    {
     "name": "stdout",
     "output_type": "stream",
     "text": [
      "INITIAL PERCENTAGE OF NULL VALUES:\n",
      "name                0.011965\n",
      "platform            0.000000\n",
      "year_of_release     1.609333\n",
      "genre               0.011965\n",
      "na_sales            0.000000\n",
      "eu_sales            0.000000\n",
      "jp_sales            0.000000\n",
      "other_sales         0.000000\n",
      "critic_score       51.319174\n",
      "user_score         54.591684\n",
      "rating             40.478612\n",
      "dtype: float64 \n",
      "\n",
      "\n",
      "FINAL PERCENTAGE OF NULL VALUES:\n",
      "name                0.000000\n",
      "platform            0.000000\n",
      "year_of_release     0.831688\n",
      "genre               0.000000\n",
      "na_sales            0.000000\n",
      "eu_sales            0.000000\n",
      "jp_sales            0.000000\n",
      "other_sales         0.000000\n",
      "critic_score       51.313349\n",
      "user_score         54.586250\n",
      "rating             40.471489\n",
      "dtype: float64\n"
     ]
    }
   ],
   "source": [
    "print('INITIAL PERCENTAGE OF NULL VALUES:')\n",
    "print(100*data.isna().sum()/data.shape[0],'\\n')\n",
    "\n",
    "# COLUMN 'name':\n",
    "# Null values are eliminated on column \"name\":\n",
    "# Tenemos solo 2 valores ausentes:\n",
    "    #display(data[data['name'].isna()])\n",
    "# Eliminamos estas 2 filas del DF, dado que tiene mucha información NaN y no aporta mucho al DF:\n",
    "if len(data[data['name'].isna()]) != 0:\n",
    "    data = data.drop([659,14244], axis=0).reset_index(drop=True)\n",
    "else:\n",
    "    print(\"The column 'name' has no null values anymore\")\n",
    "#display(data.info())\n",
    "\n",
    "# COLUMN 'year_of_release':\n",
    "# Null values are filled on column 'year_of_release' with the information available on column 'name':\n",
    "    #  Vemos que en algunos casos el año de lanzamiento está implicito en el nombre del juego. Para estos casos, verificamos si el nombre tiene el año de lanzamiento, si lo  tiene, copiamos el año (transformado en float) a la columna 'year_of_release:\n",
    "    #   Definimos una función para extraer el año de 'name' usando expresiones regulares:\n",
    "def extract_year(dataframe):\n",
    "    match = re.search(r'\\b(\\d{4})\\b', dataframe['name'])\n",
    "    return float(match.group(1)) if match else dataframe['year_of_release']\n",
    "\n",
    "years = data.apply(extract_year, axis=1) # Se extrae el año del nombre\n",
    "data['year_of_release'] = data['year_of_release'].fillna(years) # Llenamos los valores ausentes hallados\n",
    "#print(data.info())\n",
    "\n",
    "# Null values are filled on column 'year_of_release' for multiplatform games:\n",
    "    #df_prueba = data[data['year_of_release'].isna()]\n",
    "    #display(df_prueba) # Vemos que aún hay valores ausentes, como por ejemplo: LEGO Batman: The Videogame\n",
    "    # Corroboremos que no hay otras instancias del mismo juego que sí tengan año de lanzamiento. En caso de haber, debemos asignar ese año a los valores ausentes de 'year_of_release' de ese juego:\n",
    "    #display(data[data['name']=='LEGO Batman: The Videogame'])\n",
    "    # Con lo anterior corroboramos que puede haber juegos repetidos para multiples plataformas, pero que en algunas de ellas no está definido el año de lanzamiento. Usaremos entonces, las plataformas que sí tienen año de lanzaminto definido para asignarle el año a aquellos juegos que no lo tengan.\n",
    "lista_juegos = data.groupby('name')['year_of_release'].median().round() #Usamos la mediana para obtener el valor común\n",
    "data['year_of_release'] = data.set_index('name')['year_of_release'].fillna(lista_juegos).reset_index(drop=True)\n",
    "#display(data.info())\n",
    "\n",
    "print('\\nFINAL PERCENTAGE OF NULL VALUES:')\n",
    "print(100*data.isna().sum()/data.shape[0])"
   ]
  },
  {
   "cell_type": "markdown",
   "metadata": {},
   "source": [
    "- After this procedure, there are still 139 games with a null-value in ***year_of_release***, however, it is no longer possible to find out the missing values with the information available in the DF\n",
    "- For null values in the ***critic_score***, ***user_score*** and ***rating*** columns, there is not enough information in the DF to remove or replace these null values\n"
   ]
  },
  {
   "cell_type": "markdown",
   "metadata": {},
   "source": [
    "### 1.4 Total sales computing"
   ]
  },
  {
   "cell_type": "code",
   "execution_count": 6,
   "metadata": {},
   "outputs": [
    {
     "data": {
      "text/html": [
       "<div>\n",
       "<style scoped>\n",
       "    .dataframe tbody tr th:only-of-type {\n",
       "        vertical-align: middle;\n",
       "    }\n",
       "\n",
       "    .dataframe tbody tr th {\n",
       "        vertical-align: top;\n",
       "    }\n",
       "\n",
       "    .dataframe thead th {\n",
       "        text-align: right;\n",
       "    }\n",
       "</style>\n",
       "<table border=\"1\" class=\"dataframe\">\n",
       "  <thead>\n",
       "    <tr style=\"text-align: right;\">\n",
       "      <th></th>\n",
       "      <th>name</th>\n",
       "      <th>platform</th>\n",
       "      <th>year_of_release</th>\n",
       "      <th>genre</th>\n",
       "      <th>na_sales</th>\n",
       "      <th>eu_sales</th>\n",
       "      <th>jp_sales</th>\n",
       "      <th>other_sales</th>\n",
       "      <th>critic_score</th>\n",
       "      <th>user_score</th>\n",
       "      <th>rating</th>\n",
       "      <th>total_sales</th>\n",
       "    </tr>\n",
       "  </thead>\n",
       "  <tbody>\n",
       "    <tr>\n",
       "      <th>0</th>\n",
       "      <td>Wii Sports</td>\n",
       "      <td>Wii</td>\n",
       "      <td>2006.0</td>\n",
       "      <td>Sports</td>\n",
       "      <td>41.36</td>\n",
       "      <td>28.96</td>\n",
       "      <td>3.77</td>\n",
       "      <td>8.45</td>\n",
       "      <td>76.0</td>\n",
       "      <td>8.0</td>\n",
       "      <td>E</td>\n",
       "      <td>82.54</td>\n",
       "    </tr>\n",
       "    <tr>\n",
       "      <th>1</th>\n",
       "      <td>Super Mario Bros.</td>\n",
       "      <td>NES</td>\n",
       "      <td>1985.0</td>\n",
       "      <td>Platform</td>\n",
       "      <td>29.08</td>\n",
       "      <td>3.58</td>\n",
       "      <td>6.81</td>\n",
       "      <td>0.77</td>\n",
       "      <td>NaN</td>\n",
       "      <td>NaN</td>\n",
       "      <td>NaN</td>\n",
       "      <td>40.24</td>\n",
       "    </tr>\n",
       "    <tr>\n",
       "      <th>2</th>\n",
       "      <td>Mario Kart Wii</td>\n",
       "      <td>Wii</td>\n",
       "      <td>2008.0</td>\n",
       "      <td>Racing</td>\n",
       "      <td>15.68</td>\n",
       "      <td>12.76</td>\n",
       "      <td>3.79</td>\n",
       "      <td>3.29</td>\n",
       "      <td>82.0</td>\n",
       "      <td>8.3</td>\n",
       "      <td>E</td>\n",
       "      <td>35.52</td>\n",
       "    </tr>\n",
       "    <tr>\n",
       "      <th>3</th>\n",
       "      <td>Wii Sports Resort</td>\n",
       "      <td>Wii</td>\n",
       "      <td>2009.0</td>\n",
       "      <td>Sports</td>\n",
       "      <td>15.61</td>\n",
       "      <td>10.93</td>\n",
       "      <td>3.28</td>\n",
       "      <td>2.95</td>\n",
       "      <td>80.0</td>\n",
       "      <td>8.0</td>\n",
       "      <td>E</td>\n",
       "      <td>32.77</td>\n",
       "    </tr>\n",
       "    <tr>\n",
       "      <th>4</th>\n",
       "      <td>Pokemon Red/Pokemon Blue</td>\n",
       "      <td>GB</td>\n",
       "      <td>1996.0</td>\n",
       "      <td>Role-Playing</td>\n",
       "      <td>11.27</td>\n",
       "      <td>8.89</td>\n",
       "      <td>10.22</td>\n",
       "      <td>1.00</td>\n",
       "      <td>NaN</td>\n",
       "      <td>NaN</td>\n",
       "      <td>NaN</td>\n",
       "      <td>31.38</td>\n",
       "    </tr>\n",
       "    <tr>\n",
       "      <th>...</th>\n",
       "      <td>...</td>\n",
       "      <td>...</td>\n",
       "      <td>...</td>\n",
       "      <td>...</td>\n",
       "      <td>...</td>\n",
       "      <td>...</td>\n",
       "      <td>...</td>\n",
       "      <td>...</td>\n",
       "      <td>...</td>\n",
       "      <td>...</td>\n",
       "      <td>...</td>\n",
       "      <td>...</td>\n",
       "    </tr>\n",
       "    <tr>\n",
       "      <th>16708</th>\n",
       "      <td>Samurai Warriors: Sanada Maru</td>\n",
       "      <td>PS3</td>\n",
       "      <td>2016.0</td>\n",
       "      <td>Action</td>\n",
       "      <td>0.00</td>\n",
       "      <td>0.00</td>\n",
       "      <td>0.01</td>\n",
       "      <td>0.00</td>\n",
       "      <td>NaN</td>\n",
       "      <td>NaN</td>\n",
       "      <td>NaN</td>\n",
       "      <td>0.01</td>\n",
       "    </tr>\n",
       "    <tr>\n",
       "      <th>16709</th>\n",
       "      <td>LMA Manager 2007</td>\n",
       "      <td>X360</td>\n",
       "      <td>2006.0</td>\n",
       "      <td>Sports</td>\n",
       "      <td>0.00</td>\n",
       "      <td>0.01</td>\n",
       "      <td>0.00</td>\n",
       "      <td>0.00</td>\n",
       "      <td>NaN</td>\n",
       "      <td>NaN</td>\n",
       "      <td>NaN</td>\n",
       "      <td>0.01</td>\n",
       "    </tr>\n",
       "    <tr>\n",
       "      <th>16710</th>\n",
       "      <td>Haitaka no Psychedelica</td>\n",
       "      <td>PSV</td>\n",
       "      <td>2016.0</td>\n",
       "      <td>Adventure</td>\n",
       "      <td>0.00</td>\n",
       "      <td>0.00</td>\n",
       "      <td>0.01</td>\n",
       "      <td>0.00</td>\n",
       "      <td>NaN</td>\n",
       "      <td>NaN</td>\n",
       "      <td>NaN</td>\n",
       "      <td>0.01</td>\n",
       "    </tr>\n",
       "    <tr>\n",
       "      <th>16711</th>\n",
       "      <td>Spirits &amp; Spells</td>\n",
       "      <td>GBA</td>\n",
       "      <td>2003.0</td>\n",
       "      <td>Platform</td>\n",
       "      <td>0.01</td>\n",
       "      <td>0.00</td>\n",
       "      <td>0.00</td>\n",
       "      <td>0.00</td>\n",
       "      <td>NaN</td>\n",
       "      <td>NaN</td>\n",
       "      <td>NaN</td>\n",
       "      <td>0.01</td>\n",
       "    </tr>\n",
       "    <tr>\n",
       "      <th>16712</th>\n",
       "      <td>Winning Post 8 2016</td>\n",
       "      <td>PSV</td>\n",
       "      <td>2016.0</td>\n",
       "      <td>Simulation</td>\n",
       "      <td>0.00</td>\n",
       "      <td>0.00</td>\n",
       "      <td>0.01</td>\n",
       "      <td>0.00</td>\n",
       "      <td>NaN</td>\n",
       "      <td>NaN</td>\n",
       "      <td>NaN</td>\n",
       "      <td>0.01</td>\n",
       "    </tr>\n",
       "  </tbody>\n",
       "</table>\n",
       "<p>16713 rows × 12 columns</p>\n",
       "</div>"
      ],
      "text/plain": [
       "                                name platform  year_of_release         genre  \\\n",
       "0                         Wii Sports      Wii           2006.0        Sports   \n",
       "1                  Super Mario Bros.      NES           1985.0      Platform   \n",
       "2                     Mario Kart Wii      Wii           2008.0        Racing   \n",
       "3                  Wii Sports Resort      Wii           2009.0        Sports   \n",
       "4           Pokemon Red/Pokemon Blue       GB           1996.0  Role-Playing   \n",
       "...                              ...      ...              ...           ...   \n",
       "16708  Samurai Warriors: Sanada Maru      PS3           2016.0        Action   \n",
       "16709               LMA Manager 2007     X360           2006.0        Sports   \n",
       "16710        Haitaka no Psychedelica      PSV           2016.0     Adventure   \n",
       "16711               Spirits & Spells      GBA           2003.0      Platform   \n",
       "16712            Winning Post 8 2016      PSV           2016.0    Simulation   \n",
       "\n",
       "       na_sales  eu_sales  jp_sales  other_sales  critic_score  user_score  \\\n",
       "0         41.36     28.96      3.77         8.45          76.0         8.0   \n",
       "1         29.08      3.58      6.81         0.77           NaN         NaN   \n",
       "2         15.68     12.76      3.79         3.29          82.0         8.3   \n",
       "3         15.61     10.93      3.28         2.95          80.0         8.0   \n",
       "4         11.27      8.89     10.22         1.00           NaN         NaN   \n",
       "...         ...       ...       ...          ...           ...         ...   \n",
       "16708      0.00      0.00      0.01         0.00           NaN         NaN   \n",
       "16709      0.00      0.01      0.00         0.00           NaN         NaN   \n",
       "16710      0.00      0.00      0.01         0.00           NaN         NaN   \n",
       "16711      0.01      0.00      0.00         0.00           NaN         NaN   \n",
       "16712      0.00      0.00      0.01         0.00           NaN         NaN   \n",
       "\n",
       "      rating  total_sales  \n",
       "0          E        82.54  \n",
       "1        NaN        40.24  \n",
       "2          E        35.52  \n",
       "3          E        32.77  \n",
       "4        NaN        31.38  \n",
       "...      ...          ...  \n",
       "16708    NaN         0.01  \n",
       "16709    NaN         0.01  \n",
       "16710    NaN         0.01  \n",
       "16711    NaN         0.01  \n",
       "16712    NaN         0.01  \n",
       "\n",
       "[16713 rows x 12 columns]"
      ]
     },
     "metadata": {},
     "output_type": "display_data"
    }
   ],
   "source": [
    "# Cálculo de las ventas totales:\n",
    "data['total_sales'] = data['na_sales'] + data['eu_sales'] + data['jp_sales'] + data['other_sales']\n",
    "display(data)\n"
   ]
  },
  {
   "cell_type": "markdown",
   "metadata": {},
   "source": [
    "## 2. Data Analysis\n",
    "#### How many games were released in different years?"
   ]
  },
  {
   "cell_type": "code",
   "execution_count": 7,
   "metadata": {},
   "outputs": [
    {
     "data": {
      "image/png": "[encoded data removed]",
      "text/plain": [
       "<Figure size 1500x500 with 1 Axes>"
      ]
     },
     "metadata": {},
     "output_type": "display_data"
    }
   ],
   "source": [
    "games_by_year = data.groupby('year_of_release')['name'].count()\n",
    "#display(games_by_year)\n",
    "plt.figure(1, figsize=(15,5))\n",
    "games_by_year.plot(kind='bar', xlabel='Year of Release', ylabel='Count')\n",
    "plt.show()"
   ]
  },
  {
   "cell_type": "markdown",
   "metadata": {},
   "source": [
    "It can be seen that the difference in games released is quite different in each year, with 2008 and 2009 being the years where the most video games were launched."
   ]
  },
  {
   "cell_type": "markdown",
   "metadata": {},
   "source": [
    "#### How sales vary from one platform to another?"
   ]
  },
  {
   "cell_type": "code",
   "execution_count": null,
   "metadata": {},
   "outputs": [],
   "source": []
  },
  {
   "cell_type": "markdown",
   "metadata": {},
   "source": [
    "## 4 User Profiles"
   ]
  },
  {
   "cell_type": "code",
   "execution_count": 8,
   "metadata": {},
   "outputs": [],
   "source": [
    "new_data = data[data['year_of_release']>=1995]"
   ]
  },
  {
   "cell_type": "markdown",
   "metadata": {},
   "source": [
    "#### 4.1 Top 5 main platforms per region"
   ]
  },
  {
   "cell_type": "code",
   "execution_count": 9,
   "metadata": {},
   "outputs": [
    {
     "data": {
      "image/png": "[encoded data removed]",
      "text/plain": [
       "<Figure size 640x480 with 1 Axes>"
      ]
     },
     "metadata": {},
     "output_type": "display_data"
    }
   ],
   "source": [
    "platforms_per_region = new_data.pivot_table(index='platform', values=['jp_sales', 'eu_sales', 'na_sales', 'other_sales'], aggfunc='sum').reset_index()\n",
    "top_plat_na = platforms_per_region.sort_values(by='na_sales', ascending=False)[['platform','na_sales']].head()\n",
    "top_plat_eu = platforms_per_region.sort_values(by='eu_sales', ascending=False)[['platform','eu_sales']].head()\n",
    "top_plat_jp = platforms_per_region.sort_values(by='jp_sales', ascending=False)[['platform','jp_sales']].head()\n",
    "top_plat_other = platforms_per_region.sort_values(by='other_sales', ascending=False)[['platform','other_sales']].head()\n",
    "\n",
    "# Fusionar los 4 DF's:\n",
    "top_platforms = pd.merge(pd.merge(pd.merge(top_plat_na, top_plat_eu, on='platform', how='outer'),\n",
    "                                  top_plat_jp, on='platform', how='outer'), \n",
    "                                  top_plat_other, on='platform', how='outer')\n",
    "top_platforms_2 = pd.melt(top_platforms, id_vars=['platform'], var_name='region', value_name='sales', \n",
    "                          value_vars=['na_sales', 'eu_sales', 'jp_sales', 'other_sales']).reset_index(drop=True)\n",
    "\n",
    "#display(top_platforms_2)\n",
    "\n",
    "sns.barplot(top_platforms_2, x= 'region', y= 'sales', hue='platform')\n",
    "plt.title('Top 5 Main Platforms per Region')\n",
    "plt.xlabel('Region')\n",
    "plt.ylabel('Sales')\n",
    "plt.show()"
   ]
  },
  {
   "cell_type": "markdown",
   "metadata": {},
   "source": [
    "Conclusions:\n",
    "- We see that almost all regions have the same popular platforms, except for Japan, where the X360 and Wii do not stand out as popular platforms. On the contrary, the 3DS and PS platforms are among the most popular. It's worth noting that the PS platform does not stand out at all in the other regions, except for europe.\n",
    "\n",
    "- Europe is the only region where the DS console is not among the most popular, but its list includes the PS platform.\n",
    "\n",
    "- The NA market is crucial in the video game industry, as it shows a significant difference in sales compared to other regions.\n",
    "\n",
    "- The JP market is almost as large and relevant as the market in other regions."
   ]
  },
  {
   "cell_type": "markdown",
   "metadata": {},
   "source": [
    "#### 4.2 Top 5 main genres"
   ]
  },
  {
   "cell_type": "code",
   "execution_count": 10,
   "metadata": {},
   "outputs": [
    {
     "data": {
      "image/png": "[encoded data removed]",
      "text/plain": [
       "<Figure size 640x480 with 1 Axes>"
      ]
     },
     "metadata": {},
     "output_type": "display_data"
    }
   ],
   "source": [
    "genres_per_region = new_data.pivot_table(index='genre', values=['jp_sales', 'eu_sales', 'na_sales', 'other_sales'], aggfunc='sum').reset_index()\n",
    "top_genre_na =genres_per_region.sort_values(by='na_sales', ascending=False)[['genre','na_sales']].head()\n",
    "top_genre_eu =genres_per_region.sort_values(by='eu_sales', ascending=False)[['genre','eu_sales']].head()\n",
    "top_genre_jp =genres_per_region.sort_values(by='jp_sales', ascending=False)[['genre','jp_sales']].head()\n",
    "top_genre_other = genres_per_region.sort_values(by='other_sales', ascending=False)[['genre','other_sales']].head()\n",
    "\n",
    "# Fusionar los 4 DF's:\n",
    "top_genres = pd.merge(pd.merge(pd.merge(top_genre_na, top_genre_eu, on='genre', how='outer'),\n",
    "                                  top_genre_jp, on='genre', how='outer'), \n",
    "                                  top_genre_other, on='genre', how='outer')\n",
    "top_genres_2 = pd.melt(top_genres, id_vars=['genre'], var_name='region', value_name='sales', \n",
    "                          value_vars=['na_sales', 'eu_sales', 'jp_sales', 'other_sales']).reset_index(drop=True)\n",
    "\n",
    "sns.barplot(top_genres_2, x= 'region', y= 'sales', hue='genre')\n",
    "plt.title('Top 5 Main Genres per Region')\n",
    "plt.xlabel('Region')\n",
    "plt.ylabel('Sales')\n",
    "plt.show()"
   ]
  },
  {
   "cell_type": "markdown",
   "metadata": {},
   "source": [
    "Conclusions:\n",
    "- Action games are the most popular in all regions, except in JP, where the most popular category is \"Role-Playing.\"\n",
    "- NA, EU, and other regions share the same pattern of popular categories. The pattern, in descending order of popularity, is as follows: \"Action,\" \"Sports,\" \"Shooter,\" \"Misc,\" and \"Racing.\" Except for EU, where the audience slightly prefers \"Racing\" games over \"Misc.\"\n",
    "- JP is the only region where the \"Platform\" category is among the users' favorites."
   ]
  },
  {
   "cell_type": "markdown",
   "metadata": {},
   "source": [
    "#### 4.3 How ESRB rating influence sales in regions"
   ]
  },
  {
   "cell_type": "code",
   "execution_count": 11,
   "metadata": {},
   "outputs": [
    {
     "data": {
      "image/png": "[encoded data removed]",
      "text/plain": [
       "<Figure size 640x480 with 1 Axes>"
      ]
     },
     "metadata": {},
     "output_type": "display_data"
    }
   ],
   "source": [
    "ESRB_per_region = new_data.pivot_table(index='rating', values=['jp_sales', 'eu_sales', 'na_sales', 'other_sales'], aggfunc='sum').reset_index()\n",
    "#display(ESRB_per_region)\n",
    "\n",
    "rating_and_sales = pd.melt(ESRB_per_region, id_vars=['rating'], var_name='region', value_name='sales', \n",
    "                          value_vars=['na_sales', 'eu_sales', 'jp_sales', 'other_sales']).reset_index(drop=True)\n",
    "#display(rating_and_sales)\n",
    "\n",
    "sns.barplot(rating_and_sales, x= 'region', y= 'sales', hue='rating')\n",
    "plt.title('Sales according to the ESRB rating for each region')\n",
    "plt.xlabel('Region')\n",
    "plt.ylabel('Sales (million USD)')\n",
    "plt.show()"
   ]
  },
  {
   "cell_type": "markdown",
   "metadata": {},
   "source": [
    "1. In all regions, it is true that the best-selling games belong to the E (Everyone) category, followed by the M (Mature), T (Teen) and E10+ (Everyone 10 and older) categories.\n",
    "2. In NA, the difference in sales between games in the E category and the other categories mentioned above is highly significant, while in the other regions, this difference is less evident.\n",
    "3. All other categories not mentioned in point 1 did not reach one million USD in sales."
   ]
  },
  {
   "cell_type": "markdown",
   "metadata": {},
   "source": [
    "## 5. Hypothesis Testing"
   ]
  },
  {
   "cell_type": "markdown",
   "metadata": {},
   "source": [
    "#### 5.1 Average user_score for Xbox One and PC platforms are the same."
   ]
  },
  {
   "cell_type": "code",
   "execution_count": 49,
   "metadata": {},
   "outputs": [
    {
     "name": "stdout",
     "output_type": "stream",
     "text": [
      "Variance XOne:  1.8965188383045533          Variance PC:  2.306121864956744\n",
      "Sample's size: \n",
      "Muestra XOne:  182          Muestra PC:  763 \n",
      "\n",
      "---------- Hypothesis Test ----------\n",
      "Values to test:\n",
      " Average user_score for XOne:  6.521428571428572\n",
      " Average user_score for PC:  7.07391874180865\n",
      "\n",
      "-> Valor p:  3.1187142391049363e-06\n",
      "Ho is REJECTED: Average user_score for Xbox One and PC platforms are different\n"
     ]
    }
   ],
   "source": [
    "## La hipótesis nula, Ho, será que la evaluación de los usuarios en ambas plataformas es la misma\n",
    "## La hipótesis alternativa será que la evaluación es diferente.\n",
    "\n",
    "# Extraemos user_score de juegos para XOne\n",
    "XOne_games = new_data[new_data['platform']=='XOne']['user_score'].dropna().reset_index(drop= True) # Descartamos valores ausentes\n",
    "# Extraemos user_score de juegos para PC:\n",
    "PC_games = new_data[new_data['platform']=='PC']['user_score'].dropna().reset_index(drop= True)\n",
    "\n",
    "# Analizamos la varianza de las muestras:\n",
    "variance_XOne = np.var(XOne_games)\n",
    "variance_PC = np.var(PC_games)\n",
    "print('Variance XOne: ',variance_XOne,'         Variance PC: ',variance_PC)\n",
    "print(\"Sample's size: \")\n",
    "print('Muestra XOne: ', XOne_games.shape[0], '         Muestra PC: ', PC_games.shape[0],'\\n')\n",
    "\n",
    "# Aplicamos una prueba de Hipótesis sobre la igualdad de las medias de dos poblaciones independientes\n",
    "    # Dado que los valores de la varianza son muy distintos, en la prueba de hipótesis consideraremos el parámetro equal_var= False\n",
    "    # Dado que el tamaño de las muestras es muy distinto entre muestras y ademas muy pequeño en el caso de XOne, establecemos un valor de significancia de 0.05\n",
    "print('-'*10,'Hypothesis Test','-'*10)\n",
    "print('Values to test:')\n",
    "print(' Average user_score for XOne: ', XOne_games.mean())\n",
    "print(' Average user_score for PC: ', PC_games.mean())\n",
    "alpha = 0.05\n",
    "results = st.ttest_ind(XOne_games, PC_games, equal_var= False)\n",
    "print('\\n-> Valor p: ', results.pvalue) # extraer el valor p\n",
    "\n",
    "if results.pvalue < alpha: # comparar el valor p con el umbral\n",
    "    print(\"Ho is REJECTED: Average user_score for Xbox One and PC platforms are different\")\n",
    "else:\n",
    "    print(\"Ho is ACCEPTED: Average user_score for Xbox One and PC platforms are the same\")"
   ]
  },
  {
   "cell_type": "markdown",
   "metadata": {},
   "source": [
    "According to the criteria and parameters established in the statistical test, it is concluded that the average user rating is not the same for both platforms. In summary, the \"PC\" platform has a higher average acceptance among users."
   ]
  },
  {
   "cell_type": "markdown",
   "metadata": {},
   "source": [
    "#### 5.2 The average user_score for the Action and Sports genres are different."
   ]
  },
  {
   "cell_type": "code",
   "execution_count": 50,
   "metadata": {},
   "outputs": [
    {
     "name": "stdout",
     "output_type": "stream",
     "text": [
      "Variance action:  2.023633788189833          Variance sports:  2.5996816115702437\n",
      "Sample's size: \n",
      "Muestra action:  1820          Muestra sports:  1100 \n",
      "\n",
      "---------- Hypothesis Test ----------\n",
      "Values to test:\n",
      " Average user_score for the Action genre:  7.0564835164835165\n",
      " Average user_score for the Sports genre:  6.959545454545455\n",
      "\n",
      "-> Valor p:  0.1003824853745234\n",
      "Ho is ACCEPTED: Average user_score for the Action and Sports genres are the same\n"
     ]
    }
   ],
   "source": [
    "## La hipótesis nula será que la evaluación de los usuarios en ambos generos es el mismo\n",
    "## La hipótesis alternativa será que la evaluación es diferente.\n",
    "\n",
    "# Extraemos user_score de juegos del genero Action\n",
    "action_games = new_data[new_data['genre']=='Action']['user_score'].dropna().reset_index(drop= True) # Descartamos valores ausentes\n",
    "# Extraemos user_score de juegos del genero Sports:\n",
    "sports_games = new_data[new_data['genre']=='Sports']['user_score'].dropna().reset_index(drop= True)\n",
    "\n",
    "# Analizamos la varianza de las muestras:\n",
    "variance_action = np.var(action_games)\n",
    "variance_sports = np.var(sports_games)\n",
    "print('Variance action: ',variance_action,'         Variance sports: ',variance_sports)\n",
    "print(\"Sample's size: \")\n",
    "print('Muestra action: ', action_games.shape[0], '         Muestra sports: ', sports_games.shape[0],'\\n')\n",
    "\n",
    "# Aplicamos una prueba de Hipótesis sobre la igualdad de las medias de dos poblaciones independientes:\n",
    "    # Dado que los valores de la varianza son muy distintos, en la prueba de hipótesis consideraremos el parámetro equal_var= False\n",
    "    # Dado que el tamaño de las muestras es muy distinto entre muestras establecemos un valor de significancia de 0.05\n",
    "print('-'*10,'Hypothesis Test','-'*10)\n",
    "print('Values to test:')\n",
    "print(' Average user_score for the Action genre: ', action_games.mean())\n",
    "print(' Average user_score for the Sports genre: ', sports_games.mean())\n",
    "alpha = 0.05\n",
    "results = st.ttest_ind(action_games, sports_games, equal_var= False)\n",
    "print('\\n-> Valor p: ', results.pvalue) # extraer el valor p\n",
    "\n",
    "if results.pvalue < alpha: # comparar el valor p con el umbral\n",
    "    print(\"Ho is REJECTED: Average user_score for the Action and Sports genres are different.\")\n",
    "else:\n",
    "    print(\"Ho is ACCEPTED: Average user_score for the Action and Sports genres are the same\")"
   ]
  },
  {
   "cell_type": "markdown",
   "metadata": {},
   "source": [
    "According to the criteria and parameters established in the statistical test, the conclusion is that the average user rating can be considered equal for both genres: \"Action\" and \"Sports\". This implies that from the user's perspective, both genres are equally accepted in the market."
   ]
  },
  {
   "cell_type": "markdown",
   "metadata": {},
   "source": [
    "## 6. General Conclusion.\n",
    "\n",
    "El objetivo de este proyecto es identificar algunos patrones de consumo de videojuegos que tienen algunos usuarios de la empresa \"Ice videogames\" de distintas regiones del mundo.\n",
    "\n",
    "Analizando el histórico de las ganancias totales de la empresa podemos concluir que el mercado de videojuegos tuvo un crecimiento acelerado a partir del año 1995, de modo que se usaron los datos de este año en adelante para analizar los datos. \n",
    "También, con el histórico de ventas se descubrió que las principales plataformas que generan ganancia tienen un ciclo de vida casi constante de 5 años de vida, a excepción de contados casos como ....\n",
    "\n",
    "Al crear perfiles de consumo para los usuarios de las distintas regiones, se observa que:\n",
    "- Casí todas las regiones comparten las mismas plataformas principales, entre las cuales destacan X360, PS2, Wii y PS3. Sin embargo, también se reveló que los usuarios de JP tienen un patrón de consumo de videojuegos distinto, pues la mayoria de los usuarios en esta región consumen juegos de la plataforma DS.\n",
    "- Los juegos más jugados en casi todas las regiones son juegos de la categoría acción y deportes, aunque nuevamente, la región de JP se sale del patrón convencional, siendo la categoría de \"Role-playing\" la más popular.\n",
    "\n",
    "- Respecto a estas últimas 2 categorías, \"Action\" y \"Sports\", al hacer una prueba de hipótesis sobre la calificación promedio que dan los usuarios a los juegos de estas categorías, se descubrió que estas calificaciones pueden considerarse las mismas, lo cual significa que los juegos de ambos géneros son igualmente aceptados por los usuarios.\n",
    "\n",
    "- Por último, se realizó una prueba de hipótesis para saber si la calificación promedio que los usuarios dan a los juegos de XOne y PC (dos de las plataformas populares más recientes de acuerdo a ....) es similar o no lo es. Como resultado de la prueba tenemos que ambas calificaciones promedio son en realidad distintas, de modo que podemos decir con 95% de certeza que la plataforma PC es mejor calificada por los usuarios."
   ]
  },
  {
   "cell_type": "markdown",
   "metadata": {},
   "source": []
  }
 ],
 "metadata": {
  "kernelspec": {
   "display_name": "base",
   "language": "python",
   "name": "python3"
  },
  "language_info": {
   "codemirror_mode": {
    "name": "ipython",
    "version": 3
   },
   "file_extension": ".py",
   "mimetype": "text/x-python",
   "name": "python",
   "nbconvert_exporter": "python",
   "pygments_lexer": "ipython3",
   "version": "3.11.5"
  }
 },
 "nbformat": 4,
 "nbformat_minor": 2
}
